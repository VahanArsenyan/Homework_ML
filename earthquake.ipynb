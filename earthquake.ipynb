{
  "cells": [
    {
      "metadata": {
        "_uuid": "8f2839f25d086af736a60e9eeb907d3b93b6e0e5",
        "_cell_guid": "b1076dfc-b9ad-4769-8c92-a6c4dae69d19",
        "trusted": true,
        "collapsed": true
      },
      "cell_type": "code",
      "source": "# This Python 3 environment comes with many helpful analytics libraries installed\n# It is defined by the kaggle/python docker image: https://github.com/kaggle/docker-python\n# For example, here's several helpful packages to load in \n\nimport numpy as np # linear algebra\nimport pandas as pd # data processing, CSV file I/O (e.g. pd.read_csv)\n\n# Input data files are available in the \"../input/\" directory.\n# For example, running this (by clicking run or pressing Shift+Enter) will list the files in the input directory\n\nimport os\nprint(os.listdir(\"../input\"))\n\n# Any results you write to the current directory are saved as output.",
      "execution_count": null,
      "outputs": []
    },
    {
      "metadata": {
        "_cell_guid": "79c7e3d0-c299-4dcb-8224-4455121ee9b0",
        "collapsed": true,
        "_uuid": "d629ff2d2480ee46fbb7e2d37f6b5fab8052498a",
        "trusted": true
      },
      "cell_type": "code",
      "source": "import pandas as pd\nimport xgboost as xgb\nimport matplotlib.pyplot as plt",
      "execution_count": null,
      "outputs": []
    },
    {
      "metadata": {
        "trusted": true,
        "collapsed": true,
        "_uuid": "0a5327162f8aa10675f6b06ba73bb36365e41f1f"
      },
      "cell_type": "code",
      "source": "earthquakes = pd.read_csv(\"../input/database.csv\")",
      "execution_count": null,
      "outputs": []
    },
    {
      "metadata": {
        "trusted": true,
        "_uuid": "0c8db142b97bd403fa4ff235e2b314a7bd5b54ff",
        "collapsed": true
      },
      "cell_type": "code",
      "source": "earthquakes.describe()",
      "execution_count": null,
      "outputs": []
    },
    {
      "metadata": {
        "trusted": true,
        "_uuid": "6aaebe327faedad90fd51a22470c46ed1cfc0846",
        "collapsed": true
      },
      "cell_type": "code",
      "source": "earthquakes.head()",
      "execution_count": null,
      "outputs": []
    },
    {
      "metadata": {
        "trusted": true,
        "_uuid": "4e1b6124c880ca192c9be4739fd0aa406985dde2",
        "collapsed": true
      },
      "cell_type": "code",
      "source": "earthquakes[['Magnitude', 'Magnitude Type']].groupby(['Magnitude Type'], as_index=False).mean().sort_values(by='Magnitude', ascending=False)",
      "execution_count": null,
      "outputs": []
    },
    {
      "metadata": {
        "trusted": true,
        "_uuid": "23110cd887f251b6ba0e556569c90961f3623a83",
        "collapsed": true
      },
      "cell_type": "code",
      "source": "earthquakes[['Magnitude', 'Type']].groupby(['Type'], as_index=False).mean().sort_values(by='Magnitude', ascending=False)",
      "execution_count": null,
      "outputs": []
    },
    {
      "metadata": {
        "trusted": true,
        "_uuid": "9e451233c5d12fe143cc0fd9aa92efff03373dbd",
        "collapsed": true
      },
      "cell_type": "code",
      "source": "for k in earthquakes:\n    k_vals = earthquakes[k]\n    print(k,k_vals.dropna().shape)",
      "execution_count": null,
      "outputs": []
    },
    {
      "metadata": {
        "trusted": true,
        "_uuid": "e028f432c1dedb7f3a32b3e4fa7963f06a0cfa2a",
        "collapsed": true
      },
      "cell_type": "code",
      "source": "earthquakes = earthquakes.drop([\"Depth Error\", \"Depth Seismic Stations\", \"Magnitude Error\", \n                  \"Magnitude Seismic Stations\", \"Azimuthal Gap\", \"Horizontal Distance\", \"Horizontal Error\",\n                  \"ID\", \"Source\", \"Location Source\", \"Magnitude Source\", \"Status\"], axis=1)",
      "execution_count": null,
      "outputs": []
    },
    {
      "metadata": {
        "trusted": true,
        "_uuid": "e17fc0f373de3d47cb533d95633485b2b17a4b9c",
        "collapsed": true
      },
      "cell_type": "code",
      "source": "earthquakes.head()",
      "execution_count": null,
      "outputs": []
    },
    {
      "metadata": {
        "trusted": true,
        "_uuid": "0031fa5c52015b0d7902605dddb2ebeb1ffc4379",
        "collapsed": true
      },
      "cell_type": "code",
      "source": "earthquakes['Date_parsed'] = pd.to_datetime(earthquakes[\"Date\"], infer_datetime_format=True, utc=True)",
      "execution_count": null,
      "outputs": []
    },
    {
      "metadata": {
        "trusted": true,
        "_uuid": "70c370f28b86b6ccf4176f22b54434ef915c348c",
        "collapsed": true
      },
      "cell_type": "code",
      "source": "for i_date in range(earthquakes[\"Date_parsed\"].shape[0]):\n    earthquakes[\"Date_parsed\"][i_date] = earthquakes[\"Date_parsed\"][i_date].timestamp() ",
      "execution_count": null,
      "outputs": []
    },
    {
      "metadata": {
        "trusted": true,
        "collapsed": true,
        "_uuid": "022d727ab6d59b2a14ac2dcf26c1363219a5c0d9"
      },
      "cell_type": "code",
      "source": "earthquakes[\"Time_parsed\"] = pd.to_time",
      "execution_count": null,
      "outputs": []
    },
    {
      "metadata": {
        "trusted": true,
        "_uuid": "4c33eaab50fcd42630b0269b6e5b29a5f7f4a869",
        "collapsed": true
      },
      "cell_type": "code",
      "source": "earthquakes[\"Time_parsed\"] = pd.dt.strf",
      "execution_count": null,
      "outputs": []
    }
  ],
  "metadata": {
    "kernelspec": {
      "display_name": "Python 3",
      "language": "python",
      "name": "python3"
    },
    "language_info": {
      "name": "python",
      "version": "3.6.4",
      "mimetype": "text/x-python",
      "codemirror_mode": {
        "name": "ipython",
        "version": 3
      },
      "pygments_lexer": "ipython3",
      "nbconvert_exporter": "python",
      "file_extension": ".py"
    }
  },
  "nbformat": 4,
  "nbformat_minor": 1
}