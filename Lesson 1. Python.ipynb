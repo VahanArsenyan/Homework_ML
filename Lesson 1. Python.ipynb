{
 "cells": [
  {
   "cell_type": "markdown",
   "metadata": {},
   "source": [
    "# Function"
   ]
  },
  {
   "cell_type": "markdown",
   "metadata": {},
   "source": [
    "### Common usage"
   ]
  },
  {
   "cell_type": "code",
   "execution_count": 1,
   "metadata": {},
   "outputs": [
    {
     "name": "stdout",
     "output_type": "stream",
     "text": [
      "Name:  miki\n",
      "Age  50\n"
     ]
    }
   ],
   "source": [
    "def printinfo(name, age = 35):\n",
    "    \"This prints a passed info into this function\"\n",
    "    print(\"Name: \", name)\n",
    "    print(\"Age \", age)\n",
    "    return\n",
    "\n",
    "# Now you can call printinfo function\n",
    "printinfo( age=50, name=\"miki\" )"
   ]
  },
  {
   "cell_type": "markdown",
   "metadata": {},
   "source": [
    "### Function attributes"
   ]
  },
  {
   "cell_type": "code",
   "execution_count": 2,
   "metadata": {},
   "outputs": [
    {
     "data": {
      "text/plain": [
       "['__annotations__',\n",
       " '__call__',\n",
       " '__class__',\n",
       " '__closure__',\n",
       " '__code__',\n",
       " '__defaults__',\n",
       " '__delattr__',\n",
       " '__dict__',\n",
       " '__dir__',\n",
       " '__doc__',\n",
       " '__eq__',\n",
       " '__format__',\n",
       " '__ge__',\n",
       " '__get__',\n",
       " '__getattribute__',\n",
       " '__globals__',\n",
       " '__gt__',\n",
       " '__hash__',\n",
       " '__init__',\n",
       " '__init_subclass__',\n",
       " '__kwdefaults__',\n",
       " '__le__',\n",
       " '__lt__',\n",
       " '__module__',\n",
       " '__name__',\n",
       " '__ne__',\n",
       " '__new__',\n",
       " '__qualname__',\n",
       " '__reduce__',\n",
       " '__reduce_ex__',\n",
       " '__repr__',\n",
       " '__setattr__',\n",
       " '__sizeof__',\n",
       " '__str__',\n",
       " '__subclasshook__']"
      ]
     },
     "execution_count": 2,
     "metadata": {},
     "output_type": "execute_result"
    }
   ],
   "source": [
    "def foo(x:int, y=5):\n",
    "    \"\"\"\n",
    "    description\n",
    "    \"\"\"\n",
    "    return x\n",
    "\n",
    "dir(foo)"
   ]
  },
  {
   "cell_type": "code",
   "execution_count": 3,
   "metadata": {
    "collapsed": true
   },
   "outputs": [],
   "source": [
    "assert set(foo.__dir__()) == set(dir(foo))"
   ]
  },
  {
   "cell_type": "code",
   "execution_count": 4,
   "metadata": {},
   "outputs": [
    {
     "name": "stdout",
     "output_type": "stream",
     "text": [
      "__repr__ \t <method-wrapper '__repr__' of method-wrapper object at 0x057CECF0>\n",
      "__call__ \t <method-wrapper '__repr__' of method-wrapper object at 0x057CEDD0>\n",
      "__get__ \t <method-wrapper '__repr__' of method-wrapper object at 0x057CEE50>\n",
      "__new__ \t <method-wrapper '__repr__' of builtin_function_or_method object at 0x00975030>\n",
      "__closure__ \t <method-wrapper '__repr__' of NoneType object at 0x70756E08>\n",
      "__doc__ \t <method-wrapper '__repr__' of str object at 0x057CBEF0>\n",
      "__globals__ \t <method-wrapper '__repr__' of dict object at 0x04577D80>\n",
      "__module__ \t <method-wrapper '__repr__' of str object at 0x03008FC0>\n",
      "__code__ \t <method-wrapper '__repr__' of code object at 0x05586D30>\n",
      "__defaults__ \t <method-wrapper '__repr__' of tuple object at 0x0552A110>\n",
      "__kwdefaults__ \t <method-wrapper '__repr__' of NoneType object at 0x70756E08>\n",
      "__annotations__ \t <method-wrapper '__repr__' of dict object at 0x057D7030>\n",
      "__dict__ \t <method-wrapper '__repr__' of dict object at 0x057CBFC0>\n",
      "__name__ \t <method-wrapper '__repr__' of str object at 0x03404560>\n",
      "__qualname__ \t <method-wrapper '__repr__' of str object at 0x03404560>\n",
      "__hash__ \t <method-wrapper '__repr__' of method-wrapper object at 0x057CE510>\n",
      "__str__ \t <method-wrapper '__repr__' of method-wrapper object at 0x057CE430>\n",
      "__getattribute__ \t <method-wrapper '__repr__' of method-wrapper object at 0x057CE270>\n",
      "__setattr__ \t <method-wrapper '__repr__' of method-wrapper object at 0x057CE050>\n",
      "__delattr__ \t <method-wrapper '__repr__' of method-wrapper object at 0x057CE0F0>\n",
      "__lt__ \t <method-wrapper '__repr__' of method-wrapper object at 0x057CE170>\n",
      "__le__ \t <method-wrapper '__repr__' of method-wrapper object at 0x057CE210>\n",
      "__eq__ \t <method-wrapper '__repr__' of method-wrapper object at 0x05584B50>\n",
      "__ne__ \t <method-wrapper '__repr__' of method-wrapper object at 0x05584C90>\n",
      "__gt__ \t <method-wrapper '__repr__' of method-wrapper object at 0x05584CB0>\n",
      "__ge__ \t <method-wrapper '__repr__' of method-wrapper object at 0x05584F50>\n",
      "__init__ \t <method-wrapper '__repr__' of method-wrapper object at 0x05584F10>\n",
      "__reduce_ex__ \t <method-wrapper '__repr__' of builtin_function_or_method object at 0x045749E0>\n",
      "__reduce__ \t <method-wrapper '__repr__' of builtin_function_or_method object at 0x045749E0>\n",
      "__subclasshook__ \t <method-wrapper '__repr__' of builtin_function_or_method object at 0x045749E0>\n",
      "__init_subclass__ \t <method-wrapper '__repr__' of builtin_function_or_method object at 0x045749E0>\n",
      "__format__ \t <method-wrapper '__repr__' of builtin_function_or_method object at 0x045749E0>\n",
      "__sizeof__ \t <method-wrapper '__repr__' of builtin_function_or_method object at 0x045749E0>\n",
      "__dir__ \t <method-wrapper '__repr__' of builtin_function_or_method object at 0x03C8E828>\n",
      "__class__ \t <slot wrapper '__repr__' of 'function' objects>\n"
     ]
    }
   ],
   "source": [
    "for method in foo.__dir__():\n",
    "    print(\"{} \\t {}\".format(method, foo.__getattribute__(method).__repr__))"
   ]
  },
  {
   "cell_type": "code",
   "execution_count": 5,
   "metadata": {},
   "outputs": [
    {
     "data": {
      "text/plain": [
       "({'x': int}, (5,), None)"
      ]
     },
     "execution_count": 5,
     "metadata": {},
     "output_type": "execute_result"
    }
   ],
   "source": [
    "# Closured lexical environments are stored in the property __closure__ of a function\n",
    "# If a function does not use free variables it doesn't form a closure\n",
    "\n",
    "foo.__annotations__, foo.__defaults__, foo.__closure__"
   ]
  },
  {
   "cell_type": "code",
   "execution_count": 6,
   "metadata": {
    "collapsed": true
   },
   "outputs": [],
   "source": [
    "foo.__call__\n",
    "\n",
    "def foo():\n",
    "    return 5\n",
    "assert foo() == 5\n",
    "assert foo.__call__() == 5\n",
    "\n",
    "foo.__call__ = lambda : 6\n",
    "assert foo() == 5\n",
    "assert foo.__call__() == 6"
   ]
  },
  {
   "cell_type": "code",
   "execution_count": 7,
   "metadata": {},
   "outputs": [
    {
     "data": {
      "text/plain": [
       "function"
      ]
     },
     "execution_count": 7,
     "metadata": {},
     "output_type": "execute_result"
    }
   ],
   "source": [
    "# Defined for any object in python. func.__class__ == function\n",
    "foo.__class__"
   ]
  },
  {
   "cell_type": "code",
   "execution_count": 8,
   "metadata": {},
   "outputs": [
    {
     "data": {
      "text/plain": [
       "<code object foo at 0x04544338, file \"<ipython-input-6-674318295c3b>\", line 3>"
      ]
     },
     "execution_count": 8,
     "metadata": {},
     "output_type": "execute_result"
    }
   ],
   "source": [
    "# inspect function inner code\n",
    "foo.__code__"
   ]
  },
  {
   "cell_type": "code",
   "execution_count": 9,
   "metadata": {
    "collapsed": true
   },
   "outputs": [],
   "source": [
    "foo.__setattr__('myattr', 5)"
   ]
  },
  {
   "cell_type": "code",
   "execution_count": 10,
   "metadata": {
    "collapsed": true
   },
   "outputs": [],
   "source": [
    "assert 'myattr' in foo.__dir__()\n",
    "\n",
    "assert foo.myattr is foo.__getattribute__('myattr')\n",
    "assert foo.__dict__ is foo.__getattribute__('__dict__')\n",
    "\n",
    "foo.__delattr__('myattr')\n",
    "assert 'myattr' not in foo.__dir__()"
   ]
  },
  {
   "cell_type": "code",
   "execution_count": 11,
   "metadata": {
    "collapsed": true
   },
   "outputs": [],
   "source": [
    "#is"
   ]
  },
  {
   "cell_type": "code",
   "execution_count": 12,
   "metadata": {
    "collapsed": true
   },
   "outputs": [],
   "source": [
    "foo.__doc__"
   ]
  },
  {
   "cell_type": "code",
   "execution_count": 13,
   "metadata": {},
   "outputs": [
    {
     "data": {
      "text/plain": [
       "('<function foo at 0x05588C90>', '<function foo at 0x05588C90>')"
      ]
     },
     "execution_count": 13,
     "metadata": {},
     "output_type": "execute_result"
    }
   ],
   "source": [
    "foo.__str__(), foo.__repr__()"
   ]
  },
  {
   "cell_type": "markdown",
   "metadata": {},
   "source": [
    "### Common mistake"
   ]
  },
  {
   "cell_type": "code",
   "execution_count": 14,
   "metadata": {},
   "outputs": [
    {
     "name": "stdout",
     "output_type": "stream",
     "text": [
      "[0, 2]\n"
     ]
    }
   ],
   "source": [
    "def func(a=None):\n",
    "    if a is None:\n",
    "        a = list()\n",
    "    a.append(2)\n",
    "    return a\n",
    "\n",
    "a = [0]\n",
    "func(a)\n",
    "print(a)"
   ]
  },
  {
   "cell_type": "code",
   "execution_count": 15,
   "metadata": {},
   "outputs": [
    {
     "name": "stdout",
     "output_type": "stream",
     "text": [
      "[2]\n",
      "[2]\n"
     ]
    }
   ],
   "source": [
    "print(func())\n",
    "print(func())"
   ]
  },
  {
   "cell_type": "code",
   "execution_count": 16,
   "metadata": {},
   "outputs": [
    {
     "data": {
      "text/plain": [
       "(None,)"
      ]
     },
     "execution_count": 16,
     "metadata": {},
     "output_type": "execute_result"
    }
   ],
   "source": [
    "func.__defaults__"
   ]
  },
  {
   "cell_type": "code",
   "execution_count": 17,
   "metadata": {
    "collapsed": true
   },
   "outputs": [],
   "source": [
    "def func(a=5):\n",
    "    a += 2\n",
    "    return a"
   ]
  },
  {
   "cell_type": "code",
   "execution_count": 18,
   "metadata": {},
   "outputs": [
    {
     "name": "stdout",
     "output_type": "stream",
     "text": [
      "7\n",
      "7\n"
     ]
    }
   ],
   "source": [
    "print(func())\n",
    "print(func())"
   ]
  },
  {
   "cell_type": "code",
   "execution_count": null,
   "metadata": {
    "collapsed": true
   },
   "outputs": [],
   "source": []
  },
  {
   "cell_type": "markdown",
   "metadata": {},
   "source": [
    "### Function decorators"
   ]
  },
  {
   "cell_type": "code",
   "execution_count": 19,
   "metadata": {},
   "outputs": [
    {
     "name": "stdout",
     "output_type": "stream",
     "text": [
      "Something interesting happens with x = arg\n",
      "\n",
      "\n",
      "Wow! x = another_arg\n"
     ]
    }
   ],
   "source": [
    "def func1(x):\n",
    "    print(\"Something interesting happens with x = {}\".format(x))\n",
    "    \n",
    "def func2(x):\n",
    "    print(\"Wow! x = {}\".format(x))\n",
    "    \n",
    "func1('arg')\n",
    "print('\\n')\n",
    "func2('another_arg')"
   ]
  },
  {
   "cell_type": "code",
   "execution_count": 20,
   "metadata": {
    "collapsed": true
   },
   "outputs": [],
   "source": [
    "def greeting_decorator(func):\n",
    "    def wrapped_func(x):\n",
    "        print(\"Hi\")\n",
    "        func(x)\n",
    "    return wrapped_func"
   ]
  },
  {
   "cell_type": "code",
   "execution_count": 21,
   "metadata": {},
   "outputs": [
    {
     "name": "stdout",
     "output_type": "stream",
     "text": [
      "Hi\n",
      "Something interesting happens with x = arg\n",
      "\n",
      "\n",
      "Hi\n",
      "Wow! x = another_arg\n"
     ]
    }
   ],
   "source": [
    "@greeting_decorator\n",
    "def func1(x):\n",
    "    print(\"Something interesting happens with x = {}\".format(x))\n",
    "    \n",
    "@greeting_decorator\n",
    "def func2(x):\n",
    "    print(\"Wow! x = {}\".format(x))\n",
    "    \n",
    "func1('arg')\n",
    "print('\\n')\n",
    "func2('another_arg')"
   ]
  },
  {
   "cell_type": "code",
   "execution_count": 22,
   "metadata": {
    "collapsed": true
   },
   "outputs": [],
   "source": [
    "def greetings_name_decorator(name):\n",
    "    def real_greetings_name_decorator(function):\n",
    "        def wrapper(x):\n",
    "            print(\"Hi, {}\".format(name))\n",
    "            function(x)\n",
    "        return wrapper\n",
    "    return real_greetings_name_decorator"
   ]
  },
  {
   "cell_type": "code",
   "execution_count": 23,
   "metadata": {},
   "outputs": [
    {
     "name": "stdout",
     "output_type": "stream",
     "text": [
      "Hi, Lil\n",
      "Something interesting happens with x = arg\n",
      "\n",
      "\n",
      "Hi, Lil\n",
      "Wow! x = another_arg\n"
     ]
    }
   ],
   "source": [
    "@greetings_name_decorator(\"Lil\")\n",
    "def func1(x):\n",
    "    print(\"Something interesting happens with x = {}\".format(x))\n",
    "    \n",
    "@greetings_name_decorator(\"Lil\")\n",
    "def func2(x):\n",
    "    print(\"Wow! x = {}\".format(x))\n",
    "    \n",
    "func1('arg')\n",
    "print('\\n')\n",
    "func2('another_arg')"
   ]
  },
  {
   "cell_type": "code",
   "execution_count": 24,
   "metadata": {
    "collapsed": true
   },
   "outputs": [],
   "source": [
    "import sys\n",
    "\n",
    "def error_decorator(func, _empty_response):\n",
    "    def wrapped(*args, **kwargs):\n",
    "        try:\n",
    "            result = func(*args, **kwargs)\n",
    "            error, error_traceback, success = None, '', True\n",
    "        except Exception as e:\n",
    "            error, error_traceback = e.__class__.__name__, str(sys.exc_info())\n",
    "            result = _empty_response()\n",
    "            success = False\n",
    "        return {\"result\" : result, \"success\" : success, \"error\" : error, \"error_traceback\" : error_traceback}\n",
    "    return wrapped"
   ]
  },
  {
   "cell_type": "code",
   "execution_count": null,
   "metadata": {
    "collapsed": true
   },
   "outputs": [],
   "source": []
  },
  {
   "cell_type": "markdown",
   "metadata": {},
   "source": [
    "# Class"
   ]
  },
  {
   "cell_type": "markdown",
   "metadata": {},
   "source": [
    "### Common usage"
   ]
  },
  {
   "cell_type": "code",
   "execution_count": 25,
   "metadata": {},
   "outputs": [
    {
     "name": "stdout",
     "output_type": "stream",
     "text": [
      "The shark Sonya is swimming.\n",
      "The shark Sonya is being awesome.\n"
     ]
    }
   ],
   "source": [
    "class Complex:\n",
    "    def __init__(self, realpart, imagpart):\n",
    "        self.r = realpart\n",
    "        self.i = imagpart\n",
    "        \n",
    "        \n",
    "class Shark:\n",
    "    def __init__(self, name):\n",
    "        self.name = name\n",
    "        \n",
    "    def swim(self):\n",
    "        print(\"The shark {} is swimming.\".format(self.name))\n",
    "\n",
    "    def be_awesome(self):\n",
    "        print(\"The shark {} is being awesome.\".format(self.name))\n",
    "        \n",
    "shark = Shark(\"Sonya\")\n",
    "shark.swim()\n",
    "shark.be_awesome()"
   ]
  },
  {
   "cell_type": "markdown",
   "metadata": {},
   "source": [
    "### Dunder methods"
   ]
  },
  {
   "cell_type": "markdown",
   "metadata": {},
   "source": [
    "#### Creation, Calling, and Destruction"
   ]
  },
  {
   "cell_type": "code",
   "execution_count": 26,
   "metadata": {},
   "outputs": [
    {
     "data": {
      "text/plain": [
       "mappingproxy({'__dict__': <attribute '__dict__' of 'Shark' objects>,\n",
       "              '__doc__': None,\n",
       "              '__init__': <function __main__.Shark.__init__>,\n",
       "              '__module__': '__main__',\n",
       "              '__weakref__': <attribute '__weakref__' of 'Shark' objects>,\n",
       "              'be_awesome': <function __main__.Shark.be_awesome>,\n",
       "              'swim': <function __main__.Shark.swim>})"
      ]
     },
     "execution_count": 26,
     "metadata": {},
     "output_type": "execute_result"
    }
   ],
   "source": [
    "Shark.__dict__"
   ]
  },
  {
   "cell_type": "code",
   "execution_count": 27,
   "metadata": {},
   "outputs": [
    {
     "data": {
      "text/plain": [
       "['__class__',\n",
       " '__delattr__',\n",
       " '__dict__',\n",
       " '__dir__',\n",
       " '__doc__',\n",
       " '__eq__',\n",
       " '__format__',\n",
       " '__ge__',\n",
       " '__getattribute__',\n",
       " '__gt__',\n",
       " '__hash__',\n",
       " '__init__',\n",
       " '__init_subclass__',\n",
       " '__le__',\n",
       " '__lt__',\n",
       " '__module__',\n",
       " '__ne__',\n",
       " '__new__',\n",
       " '__reduce__',\n",
       " '__reduce_ex__',\n",
       " '__repr__',\n",
       " '__setattr__',\n",
       " '__sizeof__',\n",
       " '__str__',\n",
       " '__subclasshook__',\n",
       " '__weakref__',\n",
       " 'be_awesome',\n",
       " 'swim']"
      ]
     },
     "execution_count": 27,
     "metadata": {},
     "output_type": "execute_result"
    }
   ],
   "source": [
    "dir(Shark)"
   ]
  },
  {
   "cell_type": "markdown",
   "metadata": {},
   "source": [
    "### Class decorators"
   ]
  },
  {
   "cell_type": "code",
   "execution_count": 28,
   "metadata": {},
   "outputs": [
    {
     "name": "stdout",
     "output_type": "stream",
     "text": [
      "decorating\n"
     ]
    },
    {
     "ename": "TypeError",
     "evalue": "expected 1 arguments, got 0",
     "output_type": "error",
     "traceback": [
      "\u001b[0;31m---------------------------------------------------------------------------\u001b[0m",
      "\u001b[0;31mTypeError\u001b[0m                                 Traceback (most recent call last)",
      "\u001b[0;32m<ipython-input-28-8de6b498a1ad>\u001b[0m in \u001b[0;36m<module>\u001b[0;34m()\u001b[0m\n\u001b[1;32m     21\u001b[0m         \u001b[1;32mreturn\u001b[0m \u001b[0mx\u001b[0m\u001b[1;33m**\u001b[0m\u001b[1;36m4\u001b[0m\u001b[1;33m\u001b[0m\u001b[0m\n\u001b[1;32m     22\u001b[0m \u001b[1;33m\u001b[0m\u001b[0m\n\u001b[0;32m---> 23\u001b[0;31m \u001b[0mX\u001b[0m\u001b[1;33m.\u001b[0m\u001b[0m__getattribute__\u001b[0m\u001b[1;33m(\u001b[0m\u001b[1;34m'foo'\u001b[0m\u001b[1;33m)\u001b[0m\u001b[1;33m(\u001b[0m\u001b[1;33m)\u001b[0m\u001b[1;33m\u001b[0m\u001b[0m\n\u001b[0m",
      "\u001b[0;31mTypeError\u001b[0m: expected 1 arguments, got 0"
     ]
    }
   ],
   "source": [
    "import datetime                 \n",
    "import time\n",
    "\n",
    "def time_this(original_function):      \n",
    "    print(\"decorating\")                      \n",
    "    def new_function(*args,**kwargs):\n",
    "        print(\"starting timer\")       \n",
    "        before = datetime.datetime.now()                     \n",
    "        x = original_function(*args,**kwargs)                \n",
    "        after = datetime.datetime.now()                      \n",
    "        print(\"Elapsed Time = {0}\".format(after-before))    \n",
    "        return x                                             \n",
    "    return new_function \n",
    "\n",
    "class X:\n",
    "    def __init__(self):\n",
    "        pass\n",
    "    \n",
    "    @time_this\n",
    "    def foo(self, x):\n",
    "        return x**4\n",
    "    \n",
    "X.__getattribute__('foo')()"
   ]
  },
  {
   "cell_type": "code",
   "execution_count": null,
   "metadata": {
    "collapsed": true
   },
   "outputs": [],
   "source": [
    "foo(4)"
   ]
  },
  {
   "cell_type": "code",
   "execution_count": null,
   "metadata": {
    "collapsed": true
   },
   "outputs": [],
   "source": [
    "def time_all_class_methods(Cls):\n",
    "    class NewCls(object):\n",
    "        def __init__(self,*args,**kwargs):\n",
    "            self.oInstance = Cls(*args,**kwargs)\n",
    "        def __getattribute__(self,s):\n",
    "            \"\"\"\n",
    "            this is called whenever any attribute of a NewCls object is accessed. This function first tries to \n",
    "            get the attribute off NewCls. If it fails then it tries to fetch the attribute from self.oInstance (an\n",
    "            instance of the decorated class). If it manages to fetch the attribute from self.oInstance, and \n",
    "            the attribute is an instance method then `time_this` is applied.\n",
    "            \"\"\"\n",
    "            try:    \n",
    "                x = super(NewCls,self).__getattribute__(s)\n",
    "            except AttributeError:      \n",
    "                pass\n",
    "            else:\n",
    "                return x\n",
    "            x = self.oInstance.__getattribute__(s)\n",
    "            if type(x) == type(self.__init__): # it is an instance method\n",
    "                return time_this(x)  # this is equivalent of just decorating the method with time_this\n",
    "            else:\n",
    "                return x\n",
    "    return NewCls\n",
    "\n",
    "#now lets make a dummy class to test it out on:\n",
    "\n",
    "@time_all_class_methods\n",
    "class Foo(object):\n",
    "    def a(self):\n",
    "        print(\"entering a\")\n",
    "        time.sleep(3)\n",
    "        print(\"exiting a\")\n",
    "\n",
    "oF = Foo()\n",
    "oF.a()"
   ]
  },
  {
   "cell_type": "markdown",
   "metadata": {},
   "source": [
    "# Homework"
   ]
  },
  {
   "cell_type": "markdown",
   "metadata": {},
   "source": [
    "1. Function factorial with inner cache\n",
    "2. Function takes obj and creates dictionary with method names as keys and result of calling this methods as values\n",
    "3. Class of rotations of a square\n",
    "4. Singleton"
   ]
  },
  {
   "cell_type": "code",
   "execution_count": 29,
   "metadata": {
    "collapsed": true
   },
   "outputs": [],
   "source": [
    "from collections import OrderedDict\n",
    "\n",
    "def factorial(val, __cache=OrderedDict({1:1})):\n",
    "    if val in __cache:\n",
    "        return __cache[val]\n",
    "    k, v = __cache.popitem()\n",
    "    res = v\n",
    "    __cache[k] = v\n",
    "    for i in range(k+1,val+1):\n",
    "        res *= i\n",
    "        __cache[i] = res\n",
    "    return res"
   ]
  },
  {
   "cell_type": "code",
   "execution_count": 30,
   "metadata": {},
   "outputs": [
    {
     "data": {
      "text/plain": [
       "6"
      ]
     },
     "execution_count": 30,
     "metadata": {},
     "output_type": "execute_result"
    }
   ],
   "source": [
    "factorial(3)"
   ]
  },
  {
   "cell_type": "code",
   "execution_count": 31,
   "metadata": {},
   "outputs": [
    {
     "data": {
      "text/plain": [
       "24"
      ]
     },
     "execution_count": 31,
     "metadata": {},
     "output_type": "execute_result"
    }
   ],
   "source": [
    "factorial(4)"
   ]
  },
  {
   "cell_type": "code",
   "execution_count": 32,
   "metadata": {},
   "outputs": [
    {
     "data": {
      "text/plain": [
       "3628800"
      ]
     },
     "execution_count": 32,
     "metadata": {},
     "output_type": "execute_result"
    }
   ],
   "source": [
    "factorial(10)"
   ]
  },
  {
   "cell_type": "code",
   "execution_count": 33,
   "metadata": {},
   "outputs": [
    {
     "data": {
      "text/plain": [
       "87178291200"
      ]
     },
     "execution_count": 33,
     "metadata": {},
     "output_type": "execute_result"
    }
   ],
   "source": [
    "factorial(14)"
   ]
  },
  {
   "cell_type": "code",
   "execution_count": 34,
   "metadata": {},
   "outputs": [
    {
     "data": {
      "text/plain": [
       "6402373705728000"
      ]
     },
     "execution_count": 34,
     "metadata": {},
     "output_type": "execute_result"
    }
   ],
   "source": [
    "factorial(18)"
   ]
  },
  {
   "cell_type": "code",
   "execution_count": 36,
   "metadata": {
    "collapsed": true
   },
   "outputs": [],
   "source": [
    "def method_wrapepr(obj):\n",
    "    count_of_base_methods = 26\n",
    "    mts = [v for v in dir(obj.__class__) if v[:2] != \"__\" and v[-3:] != \"__\"]#\n",
    "    return {k:obj.__getattribute__(k)() for k in mts}"
   ]
  },
  {
   "cell_type": "code",
   "execution_count": 37,
   "metadata": {
    "collapsed": true
   },
   "outputs": [],
   "source": [
    "class Test:\n",
    "\n",
    "    def __init__(self):\n",
    "        self.name = \"Jessy\"\n",
    "    \n",
    "    def hi(self):\n",
    "        return \" \".join([self.name, \"hi\"])\n",
    "    \n",
    "    def number(self):\n",
    "        return \" \".join([self.name, \"4\"])\n",
    "    "
   ]
  },
  {
   "cell_type": "code",
   "execution_count": 38,
   "metadata": {},
   "outputs": [
    {
     "data": {
      "text/plain": [
       "{'hi': 'Jessy hi', 'number': 'Jessy 4'}"
      ]
     },
     "execution_count": 38,
     "metadata": {},
     "output_type": "execute_result"
    }
   ],
   "source": [
    "obj = Test()\n",
    "method_wrapepr(obj)"
   ]
  },
  {
   "cell_type": "code",
   "execution_count": 58,
   "metadata": {},
   "outputs": [],
   "source": [
    "class Rotation:\n",
    "    __objs = {}\n",
    "    @staticmethod\n",
    "    def __new__(cls, degree):\n",
    "        if degree in cls.__objs:\n",
    "            return cls.__objs[degree]\n",
    "        else:\n",
    "            obj = super().__new__(cls)\n",
    "            obj.degree = degree\n",
    "            Rotation.__objs[degree] = obj\n",
    "            return obj\n",
    "    \n",
    "    def __call__(self, mat):\n",
    "        if self.degree == 0:\n",
    "            return mat\n",
    "        elif self.degree == 180:\n",
    "            return mat[::-1]\n",
    "        elif self.degree == 90:\n",
    "            return list(zip(*mat[::-1]))\n",
    "        elif self.degree == 270:\n",
    "            return list(zip(*mat))[::-1]\n",
    "    \n",
    "    def __mul__(self, other):\n",
    "        print(self.degree, other.degree)\n",
    "        return Rotation((self.degree + other.degree) % 360)"
   ]
  },
  {
   "cell_type": "code",
   "execution_count": 59,
   "metadata": {
    "collapsed": true
   },
   "outputs": [],
   "source": [
    "mat = [[1,2,3],[4,5,6]]"
   ]
  },
  {
   "cell_type": "code",
   "execution_count": 60,
   "metadata": {},
   "outputs": [
    {
     "data": {
      "text/plain": [
       "[(4, 1), (5, 2), (6, 3)]"
      ]
     },
     "execution_count": 60,
     "metadata": {},
     "output_type": "execute_result"
    }
   ],
   "source": [
    "o90 = Rotation(90)\n",
    "o90(mat)"
   ]
  },
  {
   "cell_type": "code",
   "execution_count": 61,
   "metadata": {},
   "outputs": [
    {
     "name": "stdout",
     "output_type": "stream",
     "text": [
      "90 270\n"
     ]
    }
   ],
   "source": [
    "o270 = Rotation(270)\n",
    "ox = o90*o270"
   ]
  },
  {
   "cell_type": "code",
   "execution_count": 62,
   "metadata": {},
   "outputs": [
    {
     "data": {
      "text/plain": [
       "[[1, 2, 3], [4, 5, 6]]"
      ]
     },
     "execution_count": 62,
     "metadata": {},
     "output_type": "execute_result"
    }
   ],
   "source": [
    "ox(mat)"
   ]
  },
  {
   "cell_type": "code",
   "execution_count": 63,
   "metadata": {
    "collapsed": true
   },
   "outputs": [],
   "source": [
    "class ForeverAlone:\n",
    "    \n",
    "    __obj = None\n",
    "    \n",
    "    def __new__(cls):\n",
    "        if ForeverAlone.__obj is None:\n",
    "            ForeverAlone.__obj = super().__new__(cls)\n",
    "        return ForeverAlone.__obj"
   ]
  },
  {
   "cell_type": "code",
   "execution_count": 64,
   "metadata": {
    "collapsed": true
   },
   "outputs": [],
   "source": [
    "a = ForeverAlone()"
   ]
  },
  {
   "cell_type": "code",
   "execution_count": 65,
   "metadata": {
    "collapsed": true
   },
   "outputs": [],
   "source": [
    "b = ForeverAlone()"
   ]
  },
  {
   "cell_type": "code",
   "execution_count": 66,
   "metadata": {},
   "outputs": [
    {
     "data": {
      "text/plain": [
       "True"
      ]
     },
     "execution_count": 66,
     "metadata": {},
     "output_type": "execute_result"
    }
   ],
   "source": [
    "a is b"
   ]
  }
 ],
 "metadata": {
  "kernelspec": {
   "display_name": "Python 3",
   "language": "python",
   "name": "python3"
  },
  "language_info": {
   "codemirror_mode": {
    "name": "ipython",
    "version": 3
   },
   "file_extension": ".py",
   "mimetype": "text/x-python",
   "name": "python",
   "nbconvert_exporter": "python",
   "pygments_lexer": "ipython3",
   "version": "3.6.0"
  }
 },
 "nbformat": 4,
 "nbformat_minor": 2
}
